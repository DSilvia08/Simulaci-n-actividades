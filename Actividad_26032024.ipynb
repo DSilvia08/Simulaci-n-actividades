{
  "nbformat": 4,
  "nbformat_minor": 0,
  "metadata": {
    "colab": {
      "provenance": [],
      "authorship_tag": "ABX9TyO4hXrRRp1rSgPykdGpVbRg",
      "include_colab_link": true
    },
    "kernelspec": {
      "name": "python3",
      "display_name": "Python 3"
    },
    "language_info": {
      "name": "python"
    }
  },
  "cells": [
    {
      "cell_type": "markdown",
      "metadata": {
        "id": "view-in-github",
        "colab_type": "text"
      },
      "source": [
        "<a href=\"https://colab.research.google.com/github/DSilvia08/Simulaci-n-actividades/blob/main/Actividad_26032024.ipynb\" target=\"_parent\"><img src=\"https://colab.research.google.com/assets/colab-badge.svg\" alt=\"Open In Colab\"/></a>"
      ]
    },
    {
      "cell_type": "markdown",
      "source": [
        "Ejercicios 26/03/2024\n",
        "##Ejercicio 1\n",
        "1. Elegir al azar una ciudad de la Lista despues de hacer una mezcla."
      ],
      "metadata": {
        "id": "COVnlJ3aFMeu"
      }
    },
    {
      "cell_type": "code",
      "execution_count": 2,
      "metadata": {
        "id": "-NNjn5QEE7dh",
        "colab": {
          "base_uri": "https://localhost:8080/"
        },
        "outputId": "c6309e38-3f4c-4e05-b790-e4c722c1f53f"
      },
      "outputs": [
        {
          "output_type": "stream",
          "name": "stdout",
          "text": [
            "mezcla1 ['Rome', 'New York', 'London', 'Berlin', 'Moskov', 'Los Angeles', 'Paris', 'Madrid', 'Tokio', 'Toronto']\n",
            "La ciudad elegida es -  Toronto\n"
          ]
        }
      ],
      "source": [
        "import random\n",
        "Lista = ['Rome','New York','London','Berlin','Moskov', 'Los Angeles','Paris','Madrid','Tokio','Toronto']\n",
        "print('mezcla1', Lista)\n",
        "Ciudad = random.choice(Lista)\n",
        "print (\"La ciudad elegida es - \", Ciudad)"
      ]
    },
    {
      "cell_type": "markdown",
      "source": [
        "2. Elegir al azar 3 ciudades después de una mezcla"
      ],
      "metadata": {
        "id": "83tX-lOQKuSu"
      }
    },
    {
      "cell_type": "code",
      "source": [
        "Lista = ['Rome','New York','London','Berlin','Moskov', 'Los Angeles','Paris','Madrid','Tokio','Toronto']\n",
        "print('mezcla2', Lista)\n",
        "for i in range(3):\n",
        "  Ciudad = random.choice(Lista)\n",
        "  print (\"La ciudad elegida es - \", Ciudad)"
      ],
      "metadata": {
        "colab": {
          "base_uri": "https://localhost:8080/"
        },
        "id": "xubhMutLK3EG",
        "outputId": "ff27abd6-223c-4af2-99c6-08c388356daa"
      },
      "execution_count": 3,
      "outputs": [
        {
          "output_type": "stream",
          "name": "stdout",
          "text": [
            "mezcla2 ['Rome', 'New York', 'London', 'Berlin', 'Moskov', 'Los Angeles', 'Paris', 'Madrid', 'Tokio', 'Toronto']\n",
            "La ciudad elegida es -  Madrid\n",
            "La ciudad elegida es -  Tokio\n",
            "La ciudad elegida es -  Toronto\n"
          ]
        }
      ]
    },
    {
      "cell_type": "markdown",
      "source": [
        "#Ejercicio 2\n",
        "1. Generar muestras e histograma de las funciones: triangular(), betavariate(), expovariate(), gammavariate(), lognormvariate(), normalvariate(), vonmisesvariate(), paretovariate() y weibullvariate()"
      ],
      "metadata": {
        "id": "N0WXFixOPPE7"
      }
    },
    {
      "cell_type": "code",
      "source": [
        "#Triangular"
      ],
      "metadata": {
        "id": "Qa6Dd6o_PVGJ"
      },
      "execution_count": null,
      "outputs": []
    },
    {
      "cell_type": "markdown",
      "source": [
        "..."
      ],
      "metadata": {
        "id": "xTVM3e5KSDt8"
      }
    },
    {
      "cell_type": "code",
      "source": [
        "#Beta\n"
      ],
      "metadata": {
        "id": "-lK7ZSwyRjOM"
      },
      "execution_count": null,
      "outputs": []
    }
  ]
}