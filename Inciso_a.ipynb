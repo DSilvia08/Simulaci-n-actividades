{
  "nbformat": 4,
  "nbformat_minor": 0,
  "metadata": {
    "colab": {
      "provenance": [],
      "authorship_tag": "ABX9TyNq+Os50aFz/dd8yDxa2VPI",
      "include_colab_link": true
    },
    "kernelspec": {
      "name": "python3",
      "display_name": "Python 3"
    },
    "language_info": {
      "name": "python"
    }
  },
  "cells": [
    {
      "cell_type": "markdown",
      "metadata": {
        "id": "view-in-github",
        "colab_type": "text"
      },
      "source": [
        "<a href=\"https://colab.research.google.com/github/DSilvia08/Simulaci-n-actividades/blob/main/Inciso_a.ipynb\" target=\"_parent\"><img src=\"https://colab.research.google.com/assets/colab-badge.svg\" alt=\"Open In Colab\"/></a>"
      ]
    },
    {
      "cell_type": "code",
      "execution_count": 1,
      "metadata": {
        "colab": {
          "base_uri": "https://localhost:8080/"
        },
        "id": "WunoGPB-GTu8",
        "outputId": "ad91164a-90d0-4433-9e5d-7ebbeac06249"
      },
      "outputs": [
        {
          "output_type": "stream",
          "name": "stdout",
          "text": [
            "Método de Congruencia\n",
            "Ingrese un valor para m: 31\n",
            "Ingrese un número menor que m y mayor que 0: 21\n",
            "Ingrese un valor para a: 21\n",
            "Ingrese un valor para c: 15\n",
            "n        x_n        ax_n+c     ax_n+c % m x_n/m          \n",
            "0        21         456        22       0.6774193548387096\n",
            "1        22         477        12       0.7096774193548387\n",
            "2        12         267        19       0.3870967741935484\n",
            "3        19         414        11       0.6129032258064516\n",
            "4        11         246        29       0.3548387096774194\n",
            "5        29         624        4        0.9354838709677419\n",
            "6        4          99         6        0.12903225806451613\n",
            "7        6          141        17       0.1935483870967742\n",
            "8        17         372        0        0.5483870967741935\n",
            "9        0          15         15       0.0            \n",
            "10       15         330        20       0.4838709677419355\n",
            "11       20         435        1        0.6451612903225806\n",
            "12       1          36         5        0.03225806451612903\n",
            "13       5          120        27       0.16129032258064516\n",
            "14       27         582        24       0.8709677419354839\n",
            "15       24         519        23       0.7741935483870968\n",
            "16       23         498        2        0.7419354838709677\n",
            "17       2          57         26       0.06451612903225806\n",
            "18       26         561        3        0.8387096774193549\n",
            "19       3          78         16       0.0967741935483871\n",
            "20       16         351        10       0.5161290322580645\n",
            "21       10         225        8        0.3225806451612903\n",
            "22       8          183        28       0.25806451612903225\n",
            "23       28         603        14       0.9032258064516129\n",
            "24       14         309        30       0.45161290322580644\n",
            "25       30         645        25       0.967741935483871\n",
            "26       25         540        13       0.8064516129032258\n",
            "27       13         288        9        0.41935483870967744\n",
            "28       9          204        18       0.2903225806451613\n",
            "29       18         393        21       0.5806451612903226\n",
            "30       21         456        22       0.6774193548387096\n",
            "31       22         477        12       0.7096774193548387\n"
          ]
        }
      ],
      "source": [
        "R=0\n",
        "print(\"Método de Congruencia\")\n",
        "m=int(input(\"Ingrese un valor para m: \"))\n",
        "x_n=int(input(\"Ingrese un número menor que m y mayor que 0: \"))\n",
        "a=int(input(\"Ingrese un valor para a: \"))\n",
        "c=int(input(\"Ingrese un valor para c: \"))\n",
        "\n",
        "print(\"{:<8} {:<10} {:<10} {:<8} {:<15}\".format(\"n\", \"x_n\", \"ax_n+c\", \"ax_n+c % m\", \"x_n/m\"))\n",
        "\n",
        "for n in range(0,32):\n",
        "  P=(a*x_n) + c\n",
        "  M=P%m\n",
        "  N=x_n/m\n",
        "  d=[[n, x_n, P, M, N]]\n",
        "  print(\"{:<8} {:<10} {:<10} {:<8} {:<15}\".format(n, x_n, P, M, N))\n",
        "  x_n=M"
      ]
    }
  ]
}