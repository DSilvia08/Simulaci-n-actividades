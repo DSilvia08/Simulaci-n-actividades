{
  "nbformat": 4,
  "nbformat_minor": 0,
  "metadata": {
    "colab": {
      "provenance": [],
      "authorship_tag": "ABX9TyNBN3ZCrzjXmXRNh/TUmChW",
      "include_colab_link": true
    },
    "kernelspec": {
      "name": "python3",
      "display_name": "Python 3"
    },
    "language_info": {
      "name": "python"
    }
  },
  "cells": [
    {
      "cell_type": "markdown",
      "metadata": {
        "id": "view-in-github",
        "colab_type": "text"
      },
      "source": [
        "<a href=\"https://colab.research.google.com/github/DSilvia08/Simulaci-n-actividades/blob/main/Clase_07052024.ipynb\" target=\"_parent\"><img src=\"https://colab.research.google.com/assets/colab-badge.svg\" alt=\"Open In Colab\"/></a>"
      ]
    },
    {
      "cell_type": "markdown",
      "source": [
        "Generar una muestra de la variable con distribución\n",
        "\\\n",
        "f(x)=20x(1-x)^3,  0<x<1\n",
        "\n",
        "#Método de aceptación y rechazo"
      ],
      "metadata": {
        "id": "kCjBPMlaW5fr"
      }
    },
    {
      "cell_type": "code",
      "execution_count": 1,
      "metadata": {
        "id": "gr6R2tdBVRoM"
      },
      "outputs": [],
      "source": [
        "import random as rnd\n",
        "import numpy as np\n",
        "import matplotlib.pyplot as plt"
      ]
    },
    {
      "cell_type": "code",
      "source": [
        "def uniform(a=0,b=1,n=10):\n",
        "  lista1=[]\n",
        "  for i in range(n):\n",
        "    y=1/(b-a)\n",
        "    lista1.append(y)\n",
        "  return y"
      ],
      "metadata": {
        "id": "KxgC_7dAfF__"
      },
      "execution_count": 16,
      "outputs": []
    },
    {
      "cell_type": "code",
      "source": [
        "plt.hist(uniform())"
      ],
      "metadata": {
        "id": "Ua8DyWNhk4vq"
      },
      "execution_count": null,
      "outputs": []
    },
    {
      "cell_type": "code",
      "source": [
        "y=uniform()"
      ],
      "metadata": {
        "id": "AXo-TWgef97c"
      },
      "execution_count": 5,
      "outputs": []
    },
    {
      "cell_type": "code",
      "source": [
        "def ejer():\n",
        "  lista2=[]\n",
        "  u=rnd.random()"
      ],
      "metadata": {
        "id": "QVzxidgwgzde"
      },
      "execution_count": 13,
      "outputs": []
    },
    {
      "cell_type": "code",
      "source": [],
      "metadata": {
        "id": "PMbFyPnRkTto"
      },
      "execution_count": null,
      "outputs": []
    }
  ]
}