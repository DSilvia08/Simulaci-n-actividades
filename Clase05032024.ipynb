{
  "nbformat": 4,
  "nbformat_minor": 0,
  "metadata": {
    "colab": {
      "provenance": [],
      "authorship_tag": "ABX9TyP1CRPljT/vwSjpQCD3KN6B",
      "include_colab_link": true
    },
    "kernelspec": {
      "name": "python3",
      "display_name": "Python 3"
    },
    "language_info": {
      "name": "python"
    }
  },
  "cells": [
    {
      "cell_type": "markdown",
      "metadata": {
        "id": "view-in-github",
        "colab_type": "text"
      },
      "source": [
        "<a href=\"https://colab.research.google.com/github/DSilvia08/Simulaci-n-actividades/blob/main/Clase05032024.ipynb\" target=\"_parent\"><img src=\"https://colab.research.google.com/assets/colab-badge.svg\" alt=\"Open In Colab\"/></a>"
      ]
    },
    {
      "cell_type": "code",
      "execution_count": null,
      "metadata": {
        "id": "qfEc0lcIm13w"
      },
      "outputs": [],
      "source": [
        "R=0\n",
        "print(\"Método de Congruencia\")\n",
        "m=int(input(\"Ingrese un valor para m: \"))\n",
        "x_n=int(input(\"Ingrese un número menor que m y mayor que 0: \"))\n",
        "a=int(input(\"Ingrese un valor para a: \"))\n",
        "c=int(input(\"Ingrese un valor para c: \"))\n",
        "\n",
        "print(\"{:<8} {:<10} {:<10} {:<8} {:<15}\".format(\"n\", \"x_n\", \"ax_n+c\", \"ax_n+c % m\", \"x_n/m\"))\n",
        "\n",
        "for n in range(0,32):\n",
        "  P=(a*x_n) + c\n",
        "  M=P%m\n",
        "  N=x_n/m\n",
        "  d=[[n, x_n, P, M, N]]\n",
        "  print(\"{:<8} {:<10} {:<10} {:<8} {:<15}\".format(n, x_n, P, M, N))\n",
        "  x_n=M"
      ]
    },
    {
      "cell_type": "code",
      "source": [
        "R=0\n",
        "print(\"Método de Congruencia\")\n",
        "m=int(input(\"Ingrese un valor para m: \"))\n",
        "x_n=int(input(\"Ingrese un número menor que m y mayor que 0: \"))\n",
        "a=int(input(\"Ingrese un valor para a: \"))\n",
        "c=int(input(\"Ingrese un valor para c: \"))\n",
        "\n",
        "print(\"{:<8} {:<10} {:<10} {:<8} {:<15}\".format(\"n\", \"x_n\", \"ax_n+c\", \"ax_n+c % m\", \"x_n/m\"))\n",
        "\n",
        "for n in range(0,124):\n",
        "  P=(a*x_n) + c\n",
        "  M=P%m\n",
        "  N=x_n/m\n",
        "  d=[[n, x_n, P, M, N]]\n",
        "  print(\"{:<8} {:<10} {:<10} {:<8} {:<15}\".format(n, x_n, P, M, N))\n",
        "  x_n=M"
      ],
      "metadata": {
        "id": "MifxD4pjnRGZ"
      },
      "execution_count": null,
      "outputs": []
    },
    {
      "cell_type": "code",
      "source": [
        "R=0\n",
        "print(\"Método de Congruencia\")\n",
        "m=int(input(\"Ingrese un valor para m: \"))\n",
        "x_n=int(input(\"Ingrese un número menor que m y mayor que 0: \"))\n",
        "a=int(input(\"Ingrese un valor para a: \"))\n",
        "c=int(input(\"Ingrese un valor para c: \"))\n",
        "\n",
        "print(\"{:<8} {:<10} {:<10} {:<8} {:<15}\".format(\"n\", \"x_n\", \"ax_n+c\", \"ax_n+c % m\", \"x_n/m\"))\n",
        "\n",
        "for n in range(0,32):\n",
        "  P=(a*x_n) + c\n",
        "  M=P%m\n",
        "  N=x_n/m\n",
        "  d=[[n, x_n, P, M, N]]\n",
        "  print(\"{:<8} {:<10} {:<10} {:<8} {:<15}\".format(n, x_n, P, M, N))\n",
        "  x_n=M"
      ],
      "metadata": {
        "id": "sedOc9YUnVLw"
      },
      "execution_count": null,
      "outputs": []
    },
    {
      "cell_type": "code",
      "source": [
        "R=0\n",
        "print(\"Método de Congruencia\")\n",
        "m=int(input(\"Ingrese un valor para m: \"))\n",
        "x_n=int(input(\"Ingrese un número menor que m y mayor que 0: \"))\n",
        "a=int(input(\"Ingrese un valor para a: \"))\n",
        "c=int(input(\"Ingrese un valor para c: \"))\n",
        "\n",
        "print(\"{:<8} {:<10} {:<10} {:<8} {:<15}\".format(\"n\", \"x_n\", \"ax_n+c\", \"ax_n+c % m\", \"x_n/m\"))\n",
        "\n",
        "for n in range(0,50):\n",
        "  P=(a*x_n) + c\n",
        "  M=P%m\n",
        "  N=x_n/m\n",
        "  d=[[n, x_n, P, M, N]]\n",
        "  print(\"{:<8} {:<10} {:<10} {:<8} {:<15}\".format(n, x_n, P, M, N))\n",
        "  x_n=M"
      ],
      "metadata": {
        "id": "0R1xNtvqnXUl"
      },
      "execution_count": null,
      "outputs": []
    },
    {
      "cell_type": "code",
      "source": [
        "\"Ejercicio 2\""
      ],
      "metadata": {
        "id": "-gh84knjnbin"
      },
      "execution_count": null,
      "outputs": []
    },
    {
      "cell_type": "code",
      "source": [
        "\"Ejercicio 3\"\n",
        "L=[]\n",
        "\n",
        "for n in L:\n",
        "If"
      ],
      "metadata": {
        "id": "yJo1o7KpngLN"
      },
      "execution_count": null,
      "outputs": []
    }
  ]
}