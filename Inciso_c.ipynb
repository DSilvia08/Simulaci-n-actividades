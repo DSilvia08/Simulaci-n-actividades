{
  "nbformat": 4,
  "nbformat_minor": 0,
  "metadata": {
    "colab": {
      "provenance": [],
      "authorship_tag": "ABX9TyNq+Os50aFz/dd8yDxa2VPI",
      "include_colab_link": true
    },
    "kernelspec": {
      "name": "python3",
      "display_name": "Python 3"
    },
    "language_info": {
      "name": "python"
    }
  },
  "cells": [
    {
      "cell_type": "markdown",
      "metadata": {
        "id": "view-in-github",
        "colab_type": "text"
      },
      "source": [
        "<a href=\"https://colab.research.google.com/github/DSilvia08/Simulaci-n-actividades/blob/main/Inciso_c.ipynb\" target=\"_parent\"><img src=\"https://colab.research.google.com/assets/colab-badge.svg\" alt=\"Open In Colab\"/></a>"
      ]
    },
    {
      "cell_type": "code",
      "execution_count": 4,
      "metadata": {
        "colab": {
          "base_uri": "https://localhost:8080/"
        },
        "id": "WunoGPB-GTu8",
        "outputId": "1a1fc990-e66f-428a-c943-f5d8d41a98db"
      },
      "outputs": [
        {
          "output_type": "stream",
          "name": "stdout",
          "text": [
            "Método de Congruencia\n",
            "Ingrese un valor para m: 31\n",
            "Ingrese un número menor que m y mayor que 0: 23\n",
            "Ingrese un valor para a: 17\n",
            "Ingrese un valor para c: 0\n",
            "n        x_n        ax_n+c     ax_n+c % m x_n/m          \n",
            "0        23         391        19       0.7419354838709677\n",
            "1        19         323        13       0.6129032258064516\n",
            "2        13         221        4        0.41935483870967744\n",
            "3        4          68         6        0.12903225806451613\n",
            "4        6          102        9        0.1935483870967742\n",
            "5        9          153        29       0.2903225806451613\n",
            "6        29         493        28       0.9354838709677419\n",
            "7        28         476        11       0.9032258064516129\n",
            "8        11         187        1        0.3548387096774194\n",
            "9        1          17         17       0.03225806451612903\n",
            "10       17         289        10       0.5483870967741935\n",
            "11       10         170        15       0.3225806451612903\n",
            "12       15         255        7        0.4838709677419355\n",
            "13       7          119        26       0.22580645161290322\n",
            "14       26         442        8        0.8387096774193549\n",
            "15       8          136        12       0.25806451612903225\n",
            "16       12         204        18       0.3870967741935484\n",
            "17       18         306        27       0.5806451612903226\n",
            "18       27         459        25       0.8709677419354839\n",
            "19       25         425        22       0.8064516129032258\n",
            "20       22         374        2        0.7096774193548387\n",
            "21       2          34         3        0.06451612903225806\n",
            "22       3          51         20       0.0967741935483871\n",
            "23       20         340        30       0.6451612903225806\n",
            "24       30         510        14       0.967741935483871\n",
            "25       14         238        21       0.45161290322580644\n",
            "26       21         357        16       0.6774193548387096\n",
            "27       16         272        24       0.5161290322580645\n",
            "28       24         408        5        0.7741935483870968\n",
            "29       5          85         23       0.16129032258064516\n",
            "30       23         391        19       0.7419354838709677\n",
            "31       19         323        13       0.6129032258064516\n"
          ]
        }
      ],
      "source": [
        "R=0\n",
        "print(\"Método de Congruencia\")\n",
        "m=int(input(\"Ingrese un valor para m: \"))\n",
        "x_n=int(input(\"Ingrese un número menor que m y mayor que 0: \"))\n",
        "a=int(input(\"Ingrese un valor para a: \"))\n",
        "c=int(input(\"Ingrese un valor para c: \"))\n",
        "\n",
        "print(\"{:<8} {:<10} {:<10} {:<8} {:<15}\".format(\"n\", \"x_n\", \"ax_n+c\", \"ax_n+c % m\", \"x_n/m\"))\n",
        "\n",
        "for n in range(0,32):\n",
        "  P=(a*x_n) + c\n",
        "  M=P%m\n",
        "  N=x_n/m\n",
        "  d=[[n, x_n, P, M, N]]\n",
        "  print(\"{:<8} {:<10} {:<10} {:<8} {:<15}\".format(n, x_n, P, M, N))\n",
        "  x_n=M"
      ]
    }
  ]
}